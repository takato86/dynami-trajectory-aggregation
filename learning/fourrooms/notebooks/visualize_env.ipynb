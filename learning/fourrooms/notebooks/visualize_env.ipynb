{
 "cells": [
  {
   "cell_type": "code",
   "execution_count": 1,
   "metadata": {},
   "outputs": [],
   "source": [
    "import numpy as np\n",
    "import gym\n",
    "import gym_fourrooms\n",
    "import pandas as pd\n",
    "from PIL import Image"
   ]
  },
  {
   "cell_type": "code",
   "execution_count": 2,
   "metadata": {},
   "outputs": [],
   "source": [
    "env = gym.make(\"SubGoalFourrooms-v0\")"
   ]
  },
  {
   "cell_type": "markdown",
   "metadata": {},
   "source": [
    "# 参加者サブゴールの可視化"
   ]
  },
  {
   "cell_type": "code",
   "execution_count": 3,
   "metadata": {},
   "outputs": [],
   "source": [
    "def load_subgoals(file_path, task_id=None):\n",
    "    subgoal_df = pd.read_csv(file_path)\n",
    "    if task_id is not None:\n",
    "        subgoal_df = subgoal_df[subgoal_df[\"task_id\"] == task_id]\n",
    "    subg_serieses_df = subgoal_df.groupby([\"user_id\", \"task_id\"]).agg(list)\n",
    "    subg_serieses = []\n",
    "    for subg_series in list(subg_serieses_df['state'].values):\n",
    "        subg_serieses.append([subg_series])\n",
    "    return subg_serieses"
   ]
  },
  {
   "cell_type": "code",
   "execution_count": 4,
   "metadata": {},
   "outputs": [
    {
     "data": {
      "text/plain": [
       "[[[38, 101]],\n",
       " [[51, 88]],\n",
       " [[27, 80]],\n",
       " [[28, 101]],\n",
       " [[42, 87]],\n",
       " [[51, 88]],\n",
       " [[25, 62]],\n",
       " [[51, 88]],\n",
       " [[51, 88]],\n",
       " [[25, 62]]]"
      ]
     },
     "execution_count": 4,
     "metadata": {},
     "output_type": "execute_result"
    }
   ],
   "source": [
    "fpath = \"../in/subgoals/fourrooms_human_subgoals.csv\"\n",
    "subgoal_sets = load_subgoals(fpath)\n",
    "subgoal_sets"
   ]
  },
  {
   "cell_type": "code",
   "execution_count": 5,
   "metadata": {},
   "outputs": [],
   "source": [
    "pil_images = []\n",
    "\n",
    "for l_subgoal in subgoal_sets:\n",
    "    subgoal_dict = {}\n",
    "    for i, subgoal in enumerate(l_subgoal[0]):\n",
    "        subgoal_dict[subgoal] = i\n",
    "    \n",
    "    env.reset(subgoals=subgoal_dict)\n",
    "    img = env.render(mode='rgb_array')\n",
    "    pil_images.append(Image.fromarray(img))"
   ]
  },
  {
   "cell_type": "code",
   "execution_count": 12,
   "metadata": {},
   "outputs": [],
   "source": [
    "# 画像の保存\n",
    "for i, pil_image in enumerate(pil_images):\n",
    "    pil_image.save(f\"../img/P{i}.pdf\", format=\"pdf\", quality=100)"
   ]
  },
  {
   "cell_type": "code",
   "execution_count": null,
   "metadata": {},
   "outputs": [],
   "source": []
  }
 ],
 "metadata": {
  "kernelspec": {
   "display_name": "venv",
   "language": "python",
   "name": "python3"
  },
  "language_info": {
   "codemirror_mode": {
    "name": "ipython",
    "version": 3
   },
   "file_extension": ".py",
   "mimetype": "text/x-python",
   "name": "python",
   "nbconvert_exporter": "python",
   "pygments_lexer": "ipython3",
   "version": "3.7.9"
  },
  "orig_nbformat": 4,
  "vscode": {
   "interpreter": {
    "hash": "25c3f71c774a1ecca1776a9ee2a0c2bce270bd6438b774e29cfbb5e290187295"
   }
  }
 },
 "nbformat": 4,
 "nbformat_minor": 2
}
